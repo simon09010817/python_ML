{
 "cells": [
  {
   "cell_type": "code",
   "execution_count": 1,
   "metadata": {},
   "outputs": [],
   "source": [
    "import numpy as np\n",
    "import matplotlib.pyplot as plt"
   ]
  },
  {
   "cell_type": "code",
   "execution_count": 2,
   "metadata": {},
   "outputs": [
    {
     "name": "stdout",
     "output_type": "stream",
     "text": [
      "[[-0.19312106]\n",
      " [ 0.7008944 ]\n",
      " [ 0.32587394]]\n"
     ]
    }
   ],
   "source": [
    "#输入数据\n",
    "X = np.array([[1,3,3],[1,4,3],[1,1,1],[1,0,2]])\n",
    "#标签\n",
    "Y = np.array([[1],[1],[-1],[-1]])\n",
    "#权值初始化 3行1列 取值范围-1到1\n",
    "W = (np.random.random([3,1])-0.5) * 2\n",
    "print(W)\n",
    "\n",
    "#学习率设置\n",
    "lr = 0.11\n",
    "#神经网络输出\n",
    "O = 0\n",
    " \n",
    "def update():\n",
    "    global X,Y,W,lr\n",
    "    O = np.sign(np.dot(X,W)) #shape:(3,1)\n",
    "    W_C = lr * (X.T.dot(Y-O))/int(X.shape[0])\n",
    "    W = W + W_C"
   ]
  },
  {
   "cell_type": "code",
   "execution_count": 3,
   "metadata": {},
   "outputs": [
    {
     "name": "stdout",
     "output_type": "stream",
     "text": [
      "[[-0.30312106]\n",
      " [ 0.6458944 ]\n",
      " [ 0.16087394]]\n",
      "0\n",
      "[[-0.41312106]\n",
      " [ 0.5908944 ]\n",
      " [-0.00412606]]\n",
      "1\n",
      "[[-0.46812106]\n",
      " [ 0.5358944 ]\n",
      " [-0.05912606]]\n",
      "2\n",
      "[[-0.52312106]\n",
      " [ 0.4808944 ]\n",
      " [-0.11412606]]\n",
      "3\n",
      "Finished\n",
      "epoch: 3\n",
      "k= [4.21371234]\n",
      "d= [-4.58371249]\n"
     ]
    },
    {
     "data": {
      "image/png": "[encoded data removed]",
      "text/plain": [
       "<Figure size 432x288 with 1 Axes>"
      ]
     },
     "metadata": {
      "needs_background": "light"
     },
     "output_type": "display_data"
    }
   ],
   "source": [
    "for i in range(100):\n",
    "    update() #更新权值\n",
    "    print(W) #打印当前权值\n",
    "    print(i) #打印迭代次数\n",
    "    #计算当前输出\n",
    "    O = np.sign(np.dot(X,W))\n",
    "    #如果实际输出等于期望输出，模型收敛，循环结束\n",
    "    if(O == Y).all():\n",
    "        print('Finished')\n",
    "        print('epoch:',i)\n",
    "        break\n",
    "#正样本\n",
    "x1 = [3,4]\n",
    "y1 = [3,3]\n",
    "\n",
    "x2 = [1,0]\n",
    "y2 = [1,2]\n",
    "\n",
    "#计算分界线的斜率和截距\n",
    "k = -W[1]/W[2]\n",
    "d = -W[0]/W[2]\n",
    "\n",
    "print('k=',k)\n",
    "print('d=',d)\n",
    "\n",
    "x_data = (0,5)\n",
    "plt.figure()\n",
    "plt.plot(x_data,x_data * k + d,'r')\n",
    "plt.scatter(x1,y1,c='b')\n",
    "plt.scatter(x2,y2,c='y')\n",
    "plt.show()"
   ]
  },
  {
   "cell_type": "code",
   "execution_count": null,
   "metadata": {},
   "outputs": [],
   "source": []
  }
 ],
 "metadata": {
  "kernelspec": {
   "display_name": "Python 3",
   "language": "python",
   "name": "python3"
  },
  "language_info": {
   "codemirror_mode": {
    "name": "ipython",
    "version": 3
   },
   "file_extension": ".py",
   "mimetype": "text/x-python",
   "name": "python",
   "nbconvert_exporter": "python",
   "pygments_lexer": "ipython3",
   "version": "3.8.3"
  }
 },
 "nbformat": 4,
 "nbformat_minor": 4
}
