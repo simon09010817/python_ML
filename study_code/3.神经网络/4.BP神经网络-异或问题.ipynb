{
 "cells": [
  {
   "cell_type": "code",
   "execution_count": 1,
   "metadata": {},
   "outputs": [],
   "source": [
    "import numpy as np"
   ]
  },
  {
   "cell_type": "code",
   "execution_count": 5,
   "metadata": {},
   "outputs": [
    {
     "name": "stdout",
     "output_type": "stream",
     "text": [
      "[[-0.08161219  0.97230686  0.28473758  0.75885953]\n",
      " [ 0.06862676  0.39984694  0.93030133 -0.80095413]\n",
      " [-0.44002617  0.28821373  0.48830348 -0.25373911]]\n",
      "[[ 0.27293043]\n",
      " [-0.18559206]\n",
      " [-0.14872268]\n",
      " [ 0.87227747]]\n"
     ]
    }
   ],
   "source": [
    "#输入数据\n",
    "X = np.array([[1,0,0],\n",
    "              [1,0,1],\n",
    "              [1,1,0],\n",
    "              [1,1,1]])\n",
    "#标签\n",
    "Y = np.array([[0,1,1,0]])\n",
    "#权值初始化，取值范围-1到1\n",
    "V = np.random.random((3,4))*2-1 \n",
    "W = np.random.random((4,1))*2-1\n",
    "print(V)\n",
    "print(W)\n",
    "#学习率设置\n",
    "lr = 0.11\n",
    "\n",
    "def sigmoid(x):\n",
    "    return 1/(1 + np.exp(-x))\n",
    "\n",
    "def dsigmoid(x):\n",
    "    return x * (1-x)\n",
    "\n",
    "def update():\n",
    "    global X,Y,W,V,lr\n",
    "    \n",
    "    L1 = sigmoid(np.dot(X,V))#隐藏层输出(4,4)\n",
    "    L2 = sigmoid(np.dot(L1,W))#隐藏层输出(4,1)\n",
    "    \n",
    "    L2_delta = (Y.T -L2)*dsigmoid(L2)\n",
    "    L1_delta = L2_delta.dot(W.T)*dsigmoid(L1)\n",
    "    \n",
    "    W_C = lr * L1.T.dot(L2_delta)\n",
    "    V_C = lr * X.T.dot(L1_delta)\n",
    "    \n",
    "    W = W + W_C\n",
    "    V = V + V_C"
   ]
  },
  {
   "cell_type": "code",
   "execution_count": 6,
   "metadata": {},
   "outputs": [
    {
     "name": "stdout",
     "output_type": "stream",
     "text": [
      "Error: 0.49997219542737\n",
      "Error: 0.5000152836089948\n",
      "Error: 0.4996386593131743\n",
      "Error: 0.4990999142168367\n",
      "Error: 0.4976981414643766\n",
      "Error: 0.49314917916309586\n",
      "Error: 0.47867329545992343\n",
      "Error: 0.4419354330559043\n",
      "Error: 0.3815184089230229\n",
      "Error: 0.2883477723520345\n",
      "Error: 0.1943841306004664\n",
      "Error: 0.1391652576843265\n",
      "Error: 0.10819569099368231\n",
      "Error: 0.08922385178572634\n",
      "Error: 0.07655903425924077\n",
      "Error: 0.06752180306567998\n",
      "Error: 0.06074022722691688\n",
      "Error: 0.05545163854811416\n",
      "Error: 0.05120155865195466\n",
      "Error: 0.047703259971391\n",
      "Error: 0.044767165491233205\n",
      "Error: 0.042262963730464606\n",
      "Error: 0.04009811388854096\n",
      "Error: 0.03820505669774404\n",
      "Error: 0.03653328876094794\n",
      "Error: 0.03504427517379711\n",
      "Error: 0.033708082647829284\n",
      "Error: 0.032501090796247384\n",
      "Error: 0.03140439912247993\n",
      "Error: 0.030402694720397194\n",
      "Error: 0.029483432208726873\n",
      "Error: 0.028636229708111513\n",
      "Error: 0.02785241712419835\n",
      "Error: 0.027124693636812358\n",
      "Error: 0.026446864706810503\n",
      "Error: 0.02581363780314881\n",
      "Error: 0.025220462054732162\n",
      "Error: 0.02466340115144653\n",
      "Error: 0.024139031690289102\n",
      "Error: 0.0236443611924457\n",
      "[[0.01922359]\n",
      " [0.97936759]\n",
      " [0.97409416]\n",
      " [0.02694885]]\n",
      "0\n",
      "1\n",
      "1\n",
      "0\n"
     ]
    }
   ],
   "source": [
    "for i in range(20000):\n",
    "    update() #更新权值\n",
    "    if i % 500 == 0:\n",
    "        L1 = sigmoid(np.dot(X,V)) #隐藏层输出(4,4)\n",
    "        L2 = sigmoid(np.dot(L1,W))#隐藏层输出(4,1)\n",
    "        print('Error:',np.mean(np.abs(Y.T - L2)) )\n",
    "        \n",
    "L1 = sigmoid(np.dot(X,V))#隐藏层输出(4,4)\n",
    "L2 = sigmoid(np.dot(L1,W))#输出层输出(4,1)\n",
    "print(L2)\n",
    "\n",
    "def judge(x):\n",
    "    if x>=0.5:\n",
    "        return 1\n",
    "    else:\n",
    "        return 0\n",
    "\n",
    "for i in map(judge,L2):\n",
    "    print(i)"
   ]
  },
  {
   "cell_type": "code",
   "execution_count": null,
   "metadata": {},
   "outputs": [],
   "source": []
  }
 ],
 "metadata": {
  "kernelspec": {
   "display_name": "Python 3",
   "language": "python",
   "name": "python3"
  },
  "language_info": {
   "codemirror_mode": {
    "name": "ipython",
    "version": 3
   },
   "file_extension": ".py",
   "mimetype": "text/x-python",
   "name": "python",
   "nbconvert_exporter": "python",
   "pygments_lexer": "ipython3",
   "version": "3.8.3"
  }
 },
 "nbformat": 4,
 "nbformat_minor": 4
}
